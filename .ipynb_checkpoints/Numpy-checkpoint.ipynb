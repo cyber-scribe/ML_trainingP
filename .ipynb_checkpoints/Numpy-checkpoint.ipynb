{
 "cells": [
  {
   "cell_type": "code",
   "execution_count": 36,
   "id": "e5b78155-5f20-4f5f-8071-ec6fe75219f1",
   "metadata": {},
   "outputs": [
    {
     "name": "stdout",
     "output_type": "stream",
     "text": [
      "[1 2 3]\n"
     ]
    }
   ],
   "source": [
    "#numericalpy: scientific & mathematical ops & n-d arrays\n",
    "import numpy as np\n",
    "a= np.array([1,2,3])\n",
    "print(a);"
   ]
  },
  {
   "cell_type": "code",
   "execution_count": 37,
   "id": "5349c882-b9f3-443e-a0a8-8d92b4d71655",
   "metadata": {},
   "outputs": [
    {
     "name": "stdout",
     "output_type": "stream",
     "text": [
      "[[1 2 3]\n",
      " [4 5 6]]\n"
     ]
    }
   ],
   "source": [
    "b=np.array([[1,2,3],[4,5,6]])\n",
    "print(b)"
   ]
  },
  {
   "cell_type": "code",
   "execution_count": 38,
   "id": "ec020473-0969-4b2b-a964-f3bcd99986c1",
   "metadata": {},
   "outputs": [
    {
     "name": "stdout",
     "output_type": "stream",
     "text": [
      "1\n"
     ]
    }
   ],
   "source": [
    "#ndim: used for finding dimensions of array\n",
    "print(a.ndim)"
   ]
  },
  {
   "cell_type": "code",
   "execution_count": 39,
   "id": "2b8e90d3-f754-4486-879e-02fa36b233c2",
   "metadata": {},
   "outputs": [
    {
     "name": "stdout",
     "output_type": "stream",
     "text": [
      "2\n"
     ]
    }
   ],
   "source": [
    "print(b.ndim)"
   ]
  },
  {
   "cell_type": "code",
   "execution_count": 40,
   "id": "ee465c8d-1d6f-44b4-b4d6-5cb80df69a4c",
   "metadata": {},
   "outputs": [
    {
     "name": "stdout",
     "output_type": "stream",
     "text": [
      "8\n"
     ]
    }
   ],
   "source": [
    "#item: memory occupied by each element in a array (in bytes) OR bytesize\n",
    "print(a.itemsize)"
   ]
  },
  {
   "cell_type": "code",
   "execution_count": 41,
   "id": "ae3848fc-d9c0-46c3-a1fc-678fd2b3ca05",
   "metadata": {},
   "outputs": [
    {
     "name": "stdout",
     "output_type": "stream",
     "text": [
      "8\n"
     ]
    }
   ],
   "source": [
    "print(b.itemsize)"
   ]
  },
  {
   "cell_type": "code",
   "execution_count": 42,
   "id": "cc9675fc-60dc-4240-8586-6b8a92262b41",
   "metadata": {},
   "outputs": [
    {
     "name": "stdout",
     "output_type": "stream",
     "text": [
      "int64\n"
     ]
    }
   ],
   "source": [
    "#dtype: to find the datatype of the element of the array\n",
    "print(a.dtype)"
   ]
  },
  {
   "cell_type": "code",
   "execution_count": 43,
   "id": "8b463473-02d4-4fd7-b5c1-18ee621d87cc",
   "metadata": {},
   "outputs": [
    {
     "name": "stdout",
     "output_type": "stream",
     "text": [
      "int64\n"
     ]
    }
   ],
   "source": [
    "print(b.dtype)"
   ]
  },
  {
   "cell_type": "code",
   "execution_count": 44,
   "id": "d864f198-b247-4cca-aa64-a060cae05dca",
   "metadata": {},
   "outputs": [
    {
     "name": "stdout",
     "output_type": "stream",
     "text": [
      "6\n",
      "(2, 3)\n"
     ]
    }
   ],
   "source": [
    "#size: no of elements in the array & shape: no of rows and no column (r,c)\n",
    "print(b.size)\n",
    "print(b.shape)"
   ]
  },
  {
   "cell_type": "code",
   "execution_count": 45,
   "id": "caa00a60-0f0c-4d77-b517-fa6c83558c1f",
   "metadata": {},
   "outputs": [
    {
     "name": "stdout",
     "output_type": "stream",
     "text": [
      "[[1 2]\n",
      " [3 4]\n",
      " [5 6]]\n"
     ]
    }
   ],
   "source": [
    "#reshape: change the r & c of the array\n",
    "w= b.reshape(3,2)\n",
    "print(w)"
   ]
  },
  {
   "cell_type": "code",
   "execution_count": 46,
   "id": "5d99000a-79b0-46a3-86ae-b1a9db756b37",
   "metadata": {},
   "outputs": [
    {
     "name": "stdout",
     "output_type": "stream",
     "text": [
      "[  1.  12.  23.  34.  45.  56.  67.  78.  89. 100.]\n"
     ]
    }
   ],
   "source": [
    "#linspace: used to return evenly spaced nums in given range (1-d array), cretes dummy data on req\n",
    "d= np.linspace(1,100,10)\n",
    "print(d)"
   ]
  },
  {
   "cell_type": "code",
   "execution_count": 47,
   "id": "a34d4b49-c933-49ea-9c34-1c0c0225cec1",
   "metadata": {},
   "outputs": [
    {
     "name": "stdout",
     "output_type": "stream",
     "text": [
      "Max 100.0\n",
      "Min 1.0\n",
      "Sum 505.0\n"
     ]
    }
   ],
   "source": [
    "print(\"Max\", d.max())\n",
    "print(\"Min\", d.min())\n",
    "print(\"Sum\", d.sum())"
   ]
  },
  {
   "cell_type": "code",
   "execution_count": 48,
   "id": "f5696ff4-604c-4a01-909c-07e7a00d3b09",
   "metadata": {},
   "outputs": [],
   "source": [
    "#pandas:Data Analysis Library developed on the top of numpy & contains 2 types of data structures -1. Series & 2. Dataframe\n",
    "#Series: class in pandas used for storing 1-d array & Dataframes- stores 2-d array"
   ]
  },
  {
   "cell_type": "code",
   "execution_count": null,
   "id": "0dd4dfe0-ac91-407c-9c67-8fd00694a258",
   "metadata": {},
   "outputs": [],
   "source": []
  }
 ],
 "metadata": {
  "kernelspec": {
   "display_name": "Python 3 (ipykernel)",
   "language": "python",
   "name": "python3"
  },
  "language_info": {
   "codemirror_mode": {
    "name": "ipython",
    "version": 3
   },
   "file_extension": ".py",
   "mimetype": "text/x-python",
   "name": "python",
   "nbconvert_exporter": "python",
   "pygments_lexer": "ipython3",
   "version": "3.13.3"
  }
 },
 "nbformat": 4,
 "nbformat_minor": 5
}
